{
 "cells": [
  {
   "cell_type": "markdown",
   "metadata": {},
   "source": [
    "## Downloding Data from the Internet with Statistical Analysis"
   ]
  },
  {
   "cell_type": "markdown",
   "metadata": {},
   "source": [
    "## Collecting Data From Yahoo"
   ]
  },
  {
   "cell_type": "markdown",
   "metadata": {},
   "source": [
    "1.  Go to site https://finance.yahoo.com in your browser.\n",
    "    \n",
    "2.  You need to find the ticker symbol(s) for what you want to download. You can search Google directl (e.g. ticker symbol apple) or use the lists in http://eoddata.com/stocklist/NYSE/A.htm (you need to be sure that the stock is on that exchange or else switch exchanges (e.g. Apple is on the NASDAQ). Indices like S&P 500 are not there but you can use google search.\n",
    "\n",
    "3. We will do this for Google. The name of the company is Alphabet. You can enter it in the search box at the top of the page and you will get a list of symbols used for various Google stocks. Click on GOOG and it takes you to the Google data page. (You could have searched for other things (like Google etc) and got the same result).\n",
    "\n",
    "4. Near the top is a horizontal list of tabs. Click on Historical Data.\n",
    "\n",
    "5. Near the top you will find horizontal tabs \"Time Period   Historical Prices    Frequency\"  . Change the Time period to the one you want and examine the Frequency options (Daily, Weekly, Monthly). You should stick with Daily for our work. \n",
    "\n",
    "6. Click the Apply button.\n",
    "\n",
    "7. Click on Download Data (perhaps below the apply button). The pop-up window offers to save the data as GOOG.csv. You should save it in the directory from which you are running the Jupyter Notebook for simplicity. \".csv\" stands for \"comma separated variable\". Each day's data has several values (e.g. High, Low) and the different headings are separated by commas in the file, with an end of line (and possibly newline) character at the end which is invisible when you examine the data.\n",
    "\n",
    "8. You can now load the file into the Jupyter Notebook using Pandas and the code in the notebook and proceed to analyse it. The procedure below produces Pandas data frames for stocks. ^GSPC is the ticker symbol for S&P 500, an index of stocks in the New York Stock Exchange. If you use data sources other than Yahoo the ticker symbols may differ."
   ]
  },
  {
   "cell_type": "code",
   "execution_count": null,
   "metadata": {
    "collapsed": true
   },
   "outputs": [],
   "source": []
  },
  {
   "cell_type": "code",
   "execution_count": 1,
   "metadata": {
    "collapsed": true,
    "scrolled": true
   },
   "outputs": [],
   "source": [
    "import matplotlib as mpl\n",
    "from matplotlib import pyplot as plt\n",
    "import pandas as pd\n",
    "\n",
    "sp=pd.read_csv('^GSPC2.csv')\n",
    "ms=pd.read_csv('MSFT.csv')\n",
    "ap=pd.read_csv('AAPL.csv')"
   ]
  },
  {
   "cell_type": "code",
   "execution_count": 2,
   "metadata": {
    "collapsed": true
   },
   "outputs": [],
   "source": [
    "%matplotlib inline"
   ]
  },
  {
   "cell_type": "markdown",
   "metadata": {},
   "source": [
    "Once read in, you should examine the data. Look at the first few rows using e.g. sp.head() and determine the dimensions of the data frame - sp.describe.\n",
    "\n",
    "I have deliberately downloaded one stock with a shorter length to indicate possible necessary manipulation before putting the stocks into a data frame."
   ]
  },
  {
   "cell_type": "code",
   "execution_count": 3,
   "metadata": {
    "collapsed": false
   },
   "outputs": [
    {
     "data": {
      "text/html": [
       "<div>\n",
       "<style scoped>\n",
       "    .dataframe tbody tr th:only-of-type {\n",
       "        vertical-align: middle;\n",
       "    }\n",
       "\n",
       "    .dataframe tbody tr th {\n",
       "        vertical-align: top;\n",
       "    }\n",
       "\n",
       "    .dataframe thead th {\n",
       "        text-align: right;\n",
       "    }\n",
       "</style>\n",
       "<table border=\"1\" class=\"dataframe\">\n",
       "  <thead>\n",
       "    <tr style=\"text-align: right;\">\n",
       "      <th></th>\n",
       "      <th>Date</th>\n",
       "      <th>Open</th>\n",
       "      <th>High</th>\n",
       "      <th>Low</th>\n",
       "      <th>Close</th>\n",
       "      <th>Adj Close</th>\n",
       "      <th>Volume</th>\n",
       "    </tr>\n",
       "  </thead>\n",
       "  <tbody>\n",
       "    <tr>\n",
       "      <th>0</th>\n",
       "      <td>2006-01-09</td>\n",
       "      <td>1285.449951</td>\n",
       "      <td>1290.780029</td>\n",
       "      <td>1284.819946</td>\n",
       "      <td>1290.150024</td>\n",
       "      <td>1290.150024</td>\n",
       "      <td>2301490000</td>\n",
       "    </tr>\n",
       "    <tr>\n",
       "      <th>1</th>\n",
       "      <td>2006-01-10</td>\n",
       "      <td>1290.150024</td>\n",
       "      <td>1290.150024</td>\n",
       "      <td>1283.760010</td>\n",
       "      <td>1289.689941</td>\n",
       "      <td>1289.689941</td>\n",
       "      <td>2373080000</td>\n",
       "    </tr>\n",
       "    <tr>\n",
       "      <th>2</th>\n",
       "      <td>2006-01-11</td>\n",
       "      <td>1289.719971</td>\n",
       "      <td>1294.900024</td>\n",
       "      <td>1288.119995</td>\n",
       "      <td>1294.180054</td>\n",
       "      <td>1294.180054</td>\n",
       "      <td>2406130000</td>\n",
       "    </tr>\n",
       "    <tr>\n",
       "      <th>3</th>\n",
       "      <td>2006-01-12</td>\n",
       "      <td>1294.180054</td>\n",
       "      <td>1294.180054</td>\n",
       "      <td>1285.040039</td>\n",
       "      <td>1286.060059</td>\n",
       "      <td>1286.060059</td>\n",
       "      <td>2318350000</td>\n",
       "    </tr>\n",
       "    <tr>\n",
       "      <th>4</th>\n",
       "      <td>2006-01-13</td>\n",
       "      <td>1286.060059</td>\n",
       "      <td>1288.959961</td>\n",
       "      <td>1282.780029</td>\n",
       "      <td>1287.609985</td>\n",
       "      <td>1287.609985</td>\n",
       "      <td>2206510000</td>\n",
       "    </tr>\n",
       "  </tbody>\n",
       "</table>\n",
       "</div>"
      ],
      "text/plain": [
       "         Date         Open         High          Low        Close  \\\n",
       "0  2006-01-09  1285.449951  1290.780029  1284.819946  1290.150024   \n",
       "1  2006-01-10  1290.150024  1290.150024  1283.760010  1289.689941   \n",
       "2  2006-01-11  1289.719971  1294.900024  1288.119995  1294.180054   \n",
       "3  2006-01-12  1294.180054  1294.180054  1285.040039  1286.060059   \n",
       "4  2006-01-13  1286.060059  1288.959961  1282.780029  1287.609985   \n",
       "\n",
       "     Adj Close      Volume  \n",
       "0  1290.150024  2301490000  \n",
       "1  1289.689941  2373080000  \n",
       "2  1294.180054  2406130000  \n",
       "3  1286.060059  2318350000  \n",
       "4  1287.609985  2206510000  "
      ]
     },
     "execution_count": 3,
     "metadata": {},
     "output_type": "execute_result"
    }
   ],
   "source": [
    "sp.head()"
   ]
  },
  {
   "cell_type": "code",
   "execution_count": 4,
   "metadata": {
    "collapsed": false
   },
   "outputs": [
    {
     "data": {
      "text/html": [
       "<div>\n",
       "<style scoped>\n",
       "    .dataframe tbody tr th:only-of-type {\n",
       "        vertical-align: middle;\n",
       "    }\n",
       "\n",
       "    .dataframe tbody tr th {\n",
       "        vertical-align: top;\n",
       "    }\n",
       "\n",
       "    .dataframe thead th {\n",
       "        text-align: right;\n",
       "    }\n",
       "</style>\n",
       "<table border=\"1\" class=\"dataframe\">\n",
       "  <thead>\n",
       "    <tr style=\"text-align: right;\">\n",
       "      <th></th>\n",
       "      <th>Date</th>\n",
       "      <th>Open</th>\n",
       "      <th>High</th>\n",
       "      <th>Low</th>\n",
       "      <th>Close</th>\n",
       "      <th>Adj Close</th>\n",
       "      <th>Volume</th>\n",
       "    </tr>\n",
       "  </thead>\n",
       "  <tbody>\n",
       "    <tr>\n",
       "      <th>0</th>\n",
       "      <td>2006-01-06</td>\n",
       "      <td>26.889999</td>\n",
       "      <td>27.000000</td>\n",
       "      <td>26.490000</td>\n",
       "      <td>26.910000</td>\n",
       "      <td>20.401602</td>\n",
       "      <td>100963000</td>\n",
       "    </tr>\n",
       "    <tr>\n",
       "      <th>1</th>\n",
       "      <td>2006-01-09</td>\n",
       "      <td>26.930000</td>\n",
       "      <td>27.070000</td>\n",
       "      <td>26.760000</td>\n",
       "      <td>26.860001</td>\n",
       "      <td>20.363699</td>\n",
       "      <td>55625000</td>\n",
       "    </tr>\n",
       "    <tr>\n",
       "      <th>2</th>\n",
       "      <td>2006-01-10</td>\n",
       "      <td>26.650000</td>\n",
       "      <td>27.020000</td>\n",
       "      <td>26.590000</td>\n",
       "      <td>27.000000</td>\n",
       "      <td>20.469837</td>\n",
       "      <td>64921900</td>\n",
       "    </tr>\n",
       "    <tr>\n",
       "      <th>3</th>\n",
       "      <td>2006-01-11</td>\n",
       "      <td>27.010000</td>\n",
       "      <td>27.389999</td>\n",
       "      <td>26.900000</td>\n",
       "      <td>27.290001</td>\n",
       "      <td>20.689697</td>\n",
       "      <td>70120700</td>\n",
       "    </tr>\n",
       "    <tr>\n",
       "      <th>4</th>\n",
       "      <td>2006-01-12</td>\n",
       "      <td>27.250000</td>\n",
       "      <td>27.260000</td>\n",
       "      <td>26.969999</td>\n",
       "      <td>27.139999</td>\n",
       "      <td>20.575977</td>\n",
       "      <td>45994800</td>\n",
       "    </tr>\n",
       "  </tbody>\n",
       "</table>\n",
       "</div>"
      ],
      "text/plain": [
       "         Date       Open       High        Low      Close  Adj Close  \\\n",
       "0  2006-01-06  26.889999  27.000000  26.490000  26.910000  20.401602   \n",
       "1  2006-01-09  26.930000  27.070000  26.760000  26.860001  20.363699   \n",
       "2  2006-01-10  26.650000  27.020000  26.590000  27.000000  20.469837   \n",
       "3  2006-01-11  27.010000  27.389999  26.900000  27.290001  20.689697   \n",
       "4  2006-01-12  27.250000  27.260000  26.969999  27.139999  20.575977   \n",
       "\n",
       "      Volume  \n",
       "0  100963000  \n",
       "1   55625000  \n",
       "2   64921900  \n",
       "3   70120700  \n",
       "4   45994800  "
      ]
     },
     "execution_count": 4,
     "metadata": {},
     "output_type": "execute_result"
    }
   ],
   "source": [
    "ms.head()"
   ]
  },
  {
   "cell_type": "code",
   "execution_count": 5,
   "metadata": {
    "collapsed": false
   },
   "outputs": [
    {
     "data": {
      "text/html": [
       "<div>\n",
       "<style scoped>\n",
       "    .dataframe tbody tr th:only-of-type {\n",
       "        vertical-align: middle;\n",
       "    }\n",
       "\n",
       "    .dataframe tbody tr th {\n",
       "        vertical-align: top;\n",
       "    }\n",
       "\n",
       "    .dataframe thead th {\n",
       "        text-align: right;\n",
       "    }\n",
       "</style>\n",
       "<table border=\"1\" class=\"dataframe\">\n",
       "  <thead>\n",
       "    <tr style=\"text-align: right;\">\n",
       "      <th></th>\n",
       "      <th>Date</th>\n",
       "      <th>Open</th>\n",
       "      <th>High</th>\n",
       "      <th>Low</th>\n",
       "      <th>Close</th>\n",
       "      <th>Adj Close</th>\n",
       "      <th>Volume</th>\n",
       "    </tr>\n",
       "  </thead>\n",
       "  <tbody>\n",
       "    <tr>\n",
       "      <th>0</th>\n",
       "      <td>2006-01-06</td>\n",
       "      <td>10.750000</td>\n",
       "      <td>10.957143</td>\n",
       "      <td>10.650000</td>\n",
       "      <td>10.900000</td>\n",
       "      <td>9.771125</td>\n",
       "      <td>176114400</td>\n",
       "    </tr>\n",
       "    <tr>\n",
       "      <th>1</th>\n",
       "      <td>2006-01-09</td>\n",
       "      <td>10.961429</td>\n",
       "      <td>11.028571</td>\n",
       "      <td>10.820000</td>\n",
       "      <td>10.864285</td>\n",
       "      <td>9.739107</td>\n",
       "      <td>168760200</td>\n",
       "    </tr>\n",
       "    <tr>\n",
       "      <th>2</th>\n",
       "      <td>2006-01-10</td>\n",
       "      <td>10.892858</td>\n",
       "      <td>11.698571</td>\n",
       "      <td>10.832857</td>\n",
       "      <td>11.551429</td>\n",
       "      <td>10.355087</td>\n",
       "      <td>569967300</td>\n",
       "    </tr>\n",
       "    <tr>\n",
       "      <th>3</th>\n",
       "      <td>2006-01-11</td>\n",
       "      <td>11.977143</td>\n",
       "      <td>12.114285</td>\n",
       "      <td>11.798572</td>\n",
       "      <td>11.985714</td>\n",
       "      <td>10.744396</td>\n",
       "      <td>373448600</td>\n",
       "    </tr>\n",
       "    <tr>\n",
       "      <th>4</th>\n",
       "      <td>2006-01-12</td>\n",
       "      <td>12.138572</td>\n",
       "      <td>12.342857</td>\n",
       "      <td>11.945714</td>\n",
       "      <td>12.041429</td>\n",
       "      <td>10.794340</td>\n",
       "      <td>320202400</td>\n",
       "    </tr>\n",
       "  </tbody>\n",
       "</table>\n",
       "</div>"
      ],
      "text/plain": [
       "         Date       Open       High        Low      Close  Adj Close  \\\n",
       "0  2006-01-06  10.750000  10.957143  10.650000  10.900000   9.771125   \n",
       "1  2006-01-09  10.961429  11.028571  10.820000  10.864285   9.739107   \n",
       "2  2006-01-10  10.892858  11.698571  10.832857  11.551429  10.355087   \n",
       "3  2006-01-11  11.977143  12.114285  11.798572  11.985714  10.744396   \n",
       "4  2006-01-12  12.138572  12.342857  11.945714  12.041429  10.794340   \n",
       "\n",
       "      Volume  \n",
       "0  176114400  \n",
       "1  168760200  \n",
       "2  569967300  \n",
       "3  373448600  \n",
       "4  320202400  "
      ]
     },
     "execution_count": 5,
     "metadata": {},
     "output_type": "execute_result"
    }
   ],
   "source": [
    "ap.head()"
   ]
  },
  {
   "cell_type": "code",
   "execution_count": 6,
   "metadata": {
    "collapsed": false
   },
   "outputs": [
    {
     "name": "stdout",
     "output_type": "stream",
     "text": [
      "3020 3021 3021\n"
     ]
    }
   ],
   "source": [
    "print(len(sp['High'].values),len(ms['High'].values),len(ap['High'].values))"
   ]
  },
  {
   "cell_type": "markdown",
   "metadata": {},
   "source": [
    "We need to drop the first entry of ms and ap."
   ]
  },
  {
   "cell_type": "code",
   "execution_count": 7,
   "metadata": {
    "collapsed": true
   },
   "outputs": [],
   "source": [
    "ms=ms.drop(ms.index[0])\n",
    "ap=ap.drop(ap.index[0])"
   ]
  },
  {
   "cell_type": "code",
   "execution_count": 8,
   "metadata": {
    "collapsed": false
   },
   "outputs": [
    {
     "name": "stdout",
     "output_type": "stream",
     "text": [
      "3020 3020 3020\n"
     ]
    }
   ],
   "source": [
    "print(len(sp['High'].values),len(ms['High'].values),len(ap['High'].values))"
   ]
  },
  {
   "cell_type": "code",
   "execution_count": 9,
   "metadata": {
    "collapsed": false
   },
   "outputs": [
    {
     "data": {
      "text/plain": [
       "3020"
      ]
     },
     "execution_count": 9,
     "metadata": {},
     "output_type": "execute_result"
    }
   ],
   "source": [
    "dr=sp['Date'].values\n",
    "len(dr)"
   ]
  },
  {
   "cell_type": "markdown",
   "metadata": {},
   "source": [
    "Set up a DataFrame with only the Adj Close colums of the 3 stocks"
   ]
  },
  {
   "cell_type": "code",
   "execution_count": 10,
   "metadata": {
    "collapsed": false
   },
   "outputs": [
    {
     "data": {
      "text/html": [
       "<div>\n",
       "<style scoped>\n",
       "    .dataframe tbody tr th:only-of-type {\n",
       "        vertical-align: middle;\n",
       "    }\n",
       "\n",
       "    .dataframe tbody tr th {\n",
       "        vertical-align: top;\n",
       "    }\n",
       "\n",
       "    .dataframe thead th {\n",
       "        text-align: right;\n",
       "    }\n",
       "</style>\n",
       "<table border=\"1\" class=\"dataframe\">\n",
       "  <thead>\n",
       "    <tr style=\"text-align: right;\">\n",
       "      <th></th>\n",
       "      <th>SP</th>\n",
       "      <th>MSFT</th>\n",
       "      <th>AAPL</th>\n",
       "    </tr>\n",
       "  </thead>\n",
       "  <tbody>\n",
       "    <tr>\n",
       "      <th>0</th>\n",
       "      <td>1290.150024</td>\n",
       "      <td>20.363699</td>\n",
       "      <td>9.739107</td>\n",
       "    </tr>\n",
       "    <tr>\n",
       "      <th>1</th>\n",
       "      <td>1289.689941</td>\n",
       "      <td>20.469837</td>\n",
       "      <td>10.355087</td>\n",
       "    </tr>\n",
       "    <tr>\n",
       "      <th>2</th>\n",
       "      <td>1294.180054</td>\n",
       "      <td>20.689697</td>\n",
       "      <td>10.744396</td>\n",
       "    </tr>\n",
       "    <tr>\n",
       "      <th>3</th>\n",
       "      <td>1286.060059</td>\n",
       "      <td>20.575977</td>\n",
       "      <td>10.794340</td>\n",
       "    </tr>\n",
       "    <tr>\n",
       "      <th>4</th>\n",
       "      <td>1287.609985</td>\n",
       "      <td>20.613884</td>\n",
       "      <td>10.960820</td>\n",
       "    </tr>\n",
       "  </tbody>\n",
       "</table>\n",
       "</div>"
      ],
      "text/plain": [
       "            SP       MSFT       AAPL\n",
       "0  1290.150024  20.363699   9.739107\n",
       "1  1289.689941  20.469837  10.355087\n",
       "2  1294.180054  20.689697  10.744396\n",
       "3  1286.060059  20.575977  10.794340\n",
       "4  1287.609985  20.613884  10.960820"
      ]
     },
     "execution_count": 10,
     "metadata": {},
     "output_type": "execute_result"
    }
   ],
   "source": [
    "port=pd.DataFrame(sp['Adj Close'].values,columns=['SP'])\n",
    "port['MSFT']=ms['Adj Close'].values\n",
    "port['AAPL']=ap['Adj Close'].values\n",
    "\n",
    "port.head()"
   ]
  },
  {
   "cell_type": "code",
   "execution_count": 11,
   "metadata": {
    "collapsed": false
   },
   "outputs": [
    {
     "data": {
      "text/html": [
       "<div>\n",
       "<style scoped>\n",
       "    .dataframe tbody tr th:only-of-type {\n",
       "        vertical-align: middle;\n",
       "    }\n",
       "\n",
       "    .dataframe tbody tr th {\n",
       "        vertical-align: top;\n",
       "    }\n",
       "\n",
       "    .dataframe thead th {\n",
       "        text-align: right;\n",
       "    }\n",
       "</style>\n",
       "<table border=\"1\" class=\"dataframe\">\n",
       "  <thead>\n",
       "    <tr style=\"text-align: right;\">\n",
       "      <th></th>\n",
       "      <th>SP</th>\n",
       "      <th>MSFT</th>\n",
       "      <th>AAPL</th>\n",
       "    </tr>\n",
       "  </thead>\n",
       "  <tbody>\n",
       "    <tr>\n",
       "      <th>2006-01-09</th>\n",
       "      <td>1290.150024</td>\n",
       "      <td>20.363699</td>\n",
       "      <td>9.739107</td>\n",
       "    </tr>\n",
       "    <tr>\n",
       "      <th>2006-01-10</th>\n",
       "      <td>1289.689941</td>\n",
       "      <td>20.469837</td>\n",
       "      <td>10.355087</td>\n",
       "    </tr>\n",
       "    <tr>\n",
       "      <th>2006-01-11</th>\n",
       "      <td>1294.180054</td>\n",
       "      <td>20.689697</td>\n",
       "      <td>10.744396</td>\n",
       "    </tr>\n",
       "    <tr>\n",
       "      <th>2006-01-12</th>\n",
       "      <td>1286.060059</td>\n",
       "      <td>20.575977</td>\n",
       "      <td>10.794340</td>\n",
       "    </tr>\n",
       "    <tr>\n",
       "      <th>2006-01-13</th>\n",
       "      <td>1287.609985</td>\n",
       "      <td>20.613884</td>\n",
       "      <td>10.960820</td>\n",
       "    </tr>\n",
       "  </tbody>\n",
       "</table>\n",
       "</div>"
      ],
      "text/plain": [
       "                     SP       MSFT       AAPL\n",
       "2006-01-09  1290.150024  20.363699   9.739107\n",
       "2006-01-10  1289.689941  20.469837  10.355087\n",
       "2006-01-11  1294.180054  20.689697  10.744396\n",
       "2006-01-12  1286.060059  20.575977  10.794340\n",
       "2006-01-13  1287.609985  20.613884  10.960820"
      ]
     },
     "execution_count": 11,
     "metadata": {},
     "output_type": "execute_result"
    }
   ],
   "source": [
    "port.index=dr;port.head()"
   ]
  },
  {
   "cell_type": "code",
   "execution_count": 12,
   "metadata": {
    "collapsed": false,
    "scrolled": true
   },
   "outputs": [
    {
     "data": {
      "text/plain": [
       "array([<matplotlib.axes._subplots.AxesSubplot object at 0x7f39838d2630>,\n",
       "       <matplotlib.axes._subplots.AxesSubplot object at 0x7f398381bcc0>,\n",
       "       <matplotlib.axes._subplots.AxesSubplot object at 0x7f398383c208>],\n",
       "      dtype=object)"
      ]
     },
     "execution_count": 12,
     "metadata": {},
     "output_type": "execute_result"
    },
    {
     "data": {
      "image/png": "[encoded data removed]",
      "text/plain": [
       "<Figure size 432x288 with 3 Axes>"
      ]
     },
     "metadata": {},
     "output_type": "display_data"
    }
   ],
   "source": [
    "port.plot(subplots=True)"
   ]
  },
  {
   "cell_type": "code",
   "execution_count": 13,
   "metadata": {
    "collapsed": false
   },
   "outputs": [
    {
     "data": {
      "text/plain": [
       "SP      1290.150024\n",
       "AAPL       9.739107\n",
       "Name: 2006-01-09, dtype: float64"
      ]
     },
     "execution_count": 13,
     "metadata": {},
     "output_type": "execute_result"
    }
   ],
   "source": [
    "port.loc['2006-01-09',['SP','AAPL']]"
   ]
  },
  {
   "cell_type": "code",
   "execution_count": 14,
   "metadata": {
    "collapsed": false
   },
   "outputs": [
    {
     "data": {
      "text/plain": [
       "2743.149902"
      ]
     },
     "execution_count": 14,
     "metadata": {},
     "output_type": "execute_result"
    }
   ],
   "source": [
    "port['SP'].iloc[-1]"
   ]
  },
  {
   "cell_type": "code",
   "execution_count": 15,
   "metadata": {
    "collapsed": false
   },
   "outputs": [
    {
     "data": {
      "text/plain": [
       "SP      1290.150024\n",
       "AAPL       9.739107\n",
       "Name: 2006-01-09, dtype: float64"
      ]
     },
     "execution_count": 15,
     "metadata": {},
     "output_type": "execute_result"
    }
   ],
   "source": [
    "port.loc['2006-01-09',['SP','AAPL']]"
   ]
  },
  {
   "cell_type": "markdown",
   "metadata": {},
   "source": [
    "## Analysis"
   ]
  },
  {
   "cell_type": "code",
   "execution_count": 34,
   "metadata": {
    "collapsed": false
   },
   "outputs": [
    {
     "data": {
      "text/html": [
       "<div>\n",
       "<style scoped>\n",
       "    .dataframe tbody tr th:only-of-type {\n",
       "        vertical-align: middle;\n",
       "    }\n",
       "\n",
       "    .dataframe tbody tr th {\n",
       "        vertical-align: top;\n",
       "    }\n",
       "\n",
       "    .dataframe thead th {\n",
       "        text-align: right;\n",
       "    }\n",
       "</style>\n",
       "<table border=\"1\" class=\"dataframe\">\n",
       "  <thead>\n",
       "    <tr style=\"text-align: right;\">\n",
       "      <th></th>\n",
       "      <th>SP</th>\n",
       "      <th>MSFT</th>\n",
       "      <th>AAPL</th>\n",
       "    </tr>\n",
       "  </thead>\n",
       "  <tbody>\n",
       "    <tr>\n",
       "      <th>2006-01-09</th>\n",
       "      <td>NaN</td>\n",
       "      <td>NaN</td>\n",
       "      <td>NaN</td>\n",
       "    </tr>\n",
       "    <tr>\n",
       "      <th>2006-01-10</th>\n",
       "      <td>-0.000357</td>\n",
       "      <td>0.005199</td>\n",
       "      <td>0.061328</td>\n",
       "    </tr>\n",
       "    <tr>\n",
       "      <th>2006-01-11</th>\n",
       "      <td>0.003475</td>\n",
       "      <td>0.010683</td>\n",
       "      <td>0.036906</td>\n",
       "    </tr>\n",
       "    <tr>\n",
       "      <th>2006-01-12</th>\n",
       "      <td>-0.006294</td>\n",
       "      <td>-0.005512</td>\n",
       "      <td>0.004638</td>\n",
       "    </tr>\n",
       "    <tr>\n",
       "      <th>2006-01-13</th>\n",
       "      <td>0.001204</td>\n",
       "      <td>0.001841</td>\n",
       "      <td>0.015305</td>\n",
       "    </tr>\n",
       "  </tbody>\n",
       "</table>\n",
       "</div>"
      ],
      "text/plain": [
       "                  SP      MSFT      AAPL\n",
       "2006-01-09       NaN       NaN       NaN\n",
       "2006-01-10 -0.000357  0.005199  0.061328\n",
       "2006-01-11  0.003475  0.010683  0.036906\n",
       "2006-01-12 -0.006294 -0.005512  0.004638\n",
       "2006-01-13  0.001204  0.001841  0.015305"
      ]
     },
     "execution_count": 34,
     "metadata": {},
     "output_type": "execute_result"
    },
    {
     "data": {
      "image/png": "[encoded data removed]",
      "text/plain": [
       "<Figure size 576x432 with 1 Axes>"
      ]
     },
     "metadata": {},
     "output_type": "display_data"
    }
   ],
   "source": [
    "import numpy as np\n",
    "(port / port.iloc[0] * 100).plot(figsize=(8, 6))   \n",
    "log_returns = np.log(port / port.shift(1))\n",
    "log_returns.head()"
   ]
  },
  {
   "cell_type": "code",
   "execution_count": 18,
   "metadata": {
    "collapsed": false
   },
   "outputs": [
    {
     "data": {
      "text/html": [
       "<div>\n",
       "<style scoped>\n",
       "    .dataframe tbody tr th:only-of-type {\n",
       "        vertical-align: middle;\n",
       "    }\n",
       "\n",
       "    .dataframe tbody tr th {\n",
       "        vertical-align: top;\n",
       "    }\n",
       "\n",
       "    .dataframe thead th {\n",
       "        text-align: right;\n",
       "    }\n",
       "</style>\n",
       "<table border=\"1\" class=\"dataframe\">\n",
       "  <thead>\n",
       "    <tr style=\"text-align: right;\">\n",
       "      <th></th>\n",
       "      <th>SP</th>\n",
       "      <th>MSFT</th>\n",
       "      <th>AAPL</th>\n",
       "    </tr>\n",
       "  </thead>\n",
       "  <tbody>\n",
       "    <tr>\n",
       "      <th>2006-01-09</th>\n",
       "      <td>1290.150024</td>\n",
       "      <td>20.363699</td>\n",
       "      <td>9.739107</td>\n",
       "    </tr>\n",
       "    <tr>\n",
       "      <th>2006-01-10</th>\n",
       "      <td>1289.689941</td>\n",
       "      <td>20.469837</td>\n",
       "      <td>10.355087</td>\n",
       "    </tr>\n",
       "    <tr>\n",
       "      <th>2006-01-11</th>\n",
       "      <td>1294.180054</td>\n",
       "      <td>20.689697</td>\n",
       "      <td>10.744396</td>\n",
       "    </tr>\n",
       "    <tr>\n",
       "      <th>2006-01-12</th>\n",
       "      <td>1286.060059</td>\n",
       "      <td>20.575977</td>\n",
       "      <td>10.794340</td>\n",
       "    </tr>\n",
       "    <tr>\n",
       "      <th>2006-01-13</th>\n",
       "      <td>1287.609985</td>\n",
       "      <td>20.613884</td>\n",
       "      <td>10.960820</td>\n",
       "    </tr>\n",
       "  </tbody>\n",
       "</table>\n",
       "</div>"
      ],
      "text/plain": [
       "                     SP       MSFT       AAPL\n",
       "2006-01-09  1290.150024  20.363699   9.739107\n",
       "2006-01-10  1289.689941  20.469837  10.355087\n",
       "2006-01-11  1294.180054  20.689697  10.744396\n",
       "2006-01-12  1286.060059  20.575977  10.794340\n",
       "2006-01-13  1287.609985  20.613884  10.960820"
      ]
     },
     "execution_count": 18,
     "metadata": {},
     "output_type": "execute_result"
    }
   ],
   "source": [
    "port=port.dropna(axis=0,how='any')    # how='all' drops only complete rows of NA, how='any' drops all rows containing an NA\n",
    "port.head()"
   ]
  },
  {
   "cell_type": "code",
   "execution_count": 23,
   "metadata": {
    "collapsed": false,
    "scrolled": true
   },
   "outputs": [
    {
     "data": {
      "text/plain": [
       "array([<matplotlib.axes._subplots.AxesSubplot object at 0x7f39832f2978>,\n",
       "       <matplotlib.axes._subplots.AxesSubplot object at 0x7f3983454470>,\n",
       "       <matplotlib.axes._subplots.AxesSubplot object at 0x7f398345fd30>],\n",
       "      dtype=object)"
      ]
     },
     "execution_count": 23,
     "metadata": {},
     "output_type": "execute_result"
    },
    {
     "data": {
      "image/png": "[encoded data removed]",
      "text/plain": [
       "<Figure size 576x432 with 3 Axes>"
      ]
     },
     "metadata": {},
     "output_type": "display_data"
    }
   ],
   "source": [
    "log_returns[['SP','MSFT','AAPL']].plot(subplots=True,figsize=(8, 6))"
   ]
  },
  {
   "cell_type": "markdown",
   "metadata": {},
   "source": [
    "## Statistical Analysis of Financial Data"
   ]
  },
  {
   "cell_type": "code",
   "execution_count": 24,
   "metadata": {
    "collapsed": false,
    "scrolled": true
   },
   "outputs": [
    {
     "data": {
      "text/plain": [
       "Text(0.5,1,'qqplot of S&P500')"
      ]
     },
     "execution_count": 24,
     "metadata": {},
     "output_type": "execute_result"
    },
    {
     "data": {
      "image/png": "[encoded data removed]",
      "text/plain": [
       "<Figure size 432x288 with 1 Axes>"
      ]
     },
     "metadata": {},
     "output_type": "display_data"
    }
   ],
   "source": [
    "import scipy.stats as scs\n",
    "scs.probplot(log_returns['SP'].dropna(),plot=plt)\n",
    "plt.grid(True)\n",
    "plt.xlabel('theoretical quantiles')\n",
    "plt.ylabel('sample quantiles')\n",
    "plt.title('qqplot of S&P500')"
   ]
  },
  {
   "cell_type": "code",
   "execution_count": 35,
   "metadata": {
    "collapsed": true
   },
   "outputs": [],
   "source": [
    "def print_statistics(array):  \n",
    "    ''' Prints selected statistics.\n",
    "    Parameters\n",
    "    ==========\n",
    "    array: ndarray       (object to generate statistics on)\n",
    "    '''\n",
    "    sta = scs.describe(array)\n",
    "    print (\"%14s %15s\" % ('statistic', 'value'))\n",
    "    print (30 * \"-\")\n",
    "    print (\"%14s %15.5f\" % ('size', sta[0]))\n",
    "    print (\"%14s %15.5f\" % ('min', sta[1][0]))\n",
    "    print (\"%14s %15.5f\" % ('max', sta[1][1]))\n",
    "    print (\"%14s %15.5f\" % ('mean', sta[2]))\n",
    "    print (\"%14s %15.5f\" % ('std', np.sqrt(sta[3])))\n",
    "    print (\"%14s %15.5f\" % ('skew', sta[4]))\n",
    "    print (\"%14s %15.5f\" % ('kurtosis', sta[5]))\n"
   ]
  },
  {
   "cell_type": "code",
   "execution_count": 36,
   "metadata": {
    "collapsed": true
   },
   "outputs": [],
   "source": [
    "def normality_tests(arr):\n",
    "    ''' Tests for normality distribution of given data set.\n",
    "    Parameters\n",
    "    ==========\n",
    "    array: ndarray\n",
    "    object to generate statistics on\n",
    "    '''\n",
    "    print (\"Skew of data set %14.3f\" % scs.skew(arr))\n",
    "    print (\"Skew test p-value %14.3f\" % scs.skewtest(arr)[1])\n",
    "    print (\"Kurt of data set %14.3f\" % scs.kurtosis(arr))\n",
    "    print (\"Kurt test p-value %14.3f\" % scs.kurtosistest(arr)[1])\n",
    "    print (\"Norm test p-value %14.3f\" % scs.normaltest(arr)[1])\n"
   ]
  },
  {
   "cell_type": "code",
   "execution_count": 37,
   "metadata": {
    "collapsed": false
   },
   "outputs": [
    {
     "name": "stdout",
     "output_type": "stream",
     "text": [
      "\n",
      "Results for symbol SP\n",
      "------------------------------\n",
      "     statistic           value\n",
      "------------------------------\n",
      "          size      3019.00000\n",
      "           min        -0.09470\n",
      "           max         0.10957\n",
      "          mean         0.00025\n",
      "           std         0.01225\n",
      "          skew        -0.35561\n",
      "      kurtosis        11.56904\n",
      "\n",
      "Results for symbol MSFT\n",
      "------------------------------\n",
      "     statistic           value\n",
      "------------------------------\n",
      "          size      3019.00000\n",
      "           min        -0.12458\n",
      "           max         0.17063\n",
      "          mean         0.00049\n",
      "           std         0.01690\n",
      "          skew         0.07096\n",
      "      kurtosis        10.70836\n",
      "\n",
      "Results for symbol AAPL\n",
      "------------------------------\n",
      "     statistic           value\n",
      "------------------------------\n",
      "          size      3019.00000\n",
      "           min        -0.19747\n",
      "           max         0.13019\n",
      "          mean         0.00096\n",
      "           std         0.02043\n",
      "          skew        -0.30029\n",
      "      kurtosis         6.70554\n"
     ]
    },
    {
     "data": {
      "image/png": "[encoded data removed]",
      "text/plain": [
       "<Figure size 864x432 with 4 Axes>"
      ]
     },
     "metadata": {},
     "output_type": "display_data"
    }
   ],
   "source": [
    "symbols=['SP','MSFT','AAPL']\n",
    "log_returns.hist(bins=100, figsize=(12, 6))\n",
    "for sym in symbols:\n",
    "    print (\"\\nResults for symbol %s\" % sym)\n",
    "    print (30 * \"-\")\n",
    "    log_data = np.array(log_returns[sym].dropna())\n",
    "    print_statistics(log_data)"
   ]
  },
  {
   "cell_type": "code",
   "execution_count": 28,
   "metadata": {
    "collapsed": false
   },
   "outputs": [
    {
     "name": "stdout",
     "output_type": "stream",
     "text": [
      "\n",
      "Results for symbol SP\n",
      "--------------------------------\n",
      "Skew of data set         -0.356\n",
      "Skew test p-value          0.000\n",
      "Kurt of data set         11.569\n",
      "Kurt test p-value          0.000\n",
      "Norm test p-value          0.000\n",
      "\n",
      "Results for symbol MSFT\n",
      "--------------------------------\n",
      "Skew of data set          0.071\n",
      "Skew test p-value          0.111\n",
      "Kurt of data set         10.708\n",
      "Kurt test p-value          0.000\n",
      "Norm test p-value          0.000\n",
      "\n",
      "Results for symbol AAPL\n",
      "--------------------------------\n",
      "Skew of data set         -0.300\n",
      "Skew test p-value          0.000\n",
      "Kurt of data set          6.706\n",
      "Kurt test p-value          0.000\n",
      "Norm test p-value          0.000\n"
     ]
    },
    {
     "data": {
      "image/png": "[encoded data removed]",
      "text/plain": [
       "<Figure size 432x288 with 1 Axes>"
      ]
     },
     "metadata": {},
     "output_type": "display_data"
    }
   ],
   "source": [
    "scs.probplot(log_returns['MSFT'].dropna(), plot=plt,fit=True)\n",
    "plt.grid(True)\n",
    "plt.xlabel('theoretical quantiles')\n",
    "plt.ylabel('sample quantiles')\n",
    "for sym in symbols:\n",
    "    print (\"\\nResults for symbol %s\" % sym)\n",
    "    print (32 * \"-\")\n",
    "    log_data = np.array(log_returns[sym].dropna())\n",
    "    normality_tests(log_data)"
   ]
  },
  {
   "cell_type": "code",
   "execution_count": 29,
   "metadata": {
    "collapsed": false
   },
   "outputs": [
    {
     "name": "stdout",
     "output_type": "stream",
     "text": [
      "\n",
      "Results for symbol SP\n",
      "--------------------------------\n",
      "Skew of data set         -0.356\n",
      "Skew test p-value          0.000\n",
      "Kurt of data set         11.569\n",
      "Kurt test p-value          0.000\n",
      "Norm test p-value          0.000\n",
      "\n",
      "Results for symbol MSFT\n",
      "--------------------------------\n",
      "Skew of data set          0.071\n",
      "Skew test p-value          0.111\n",
      "Kurt of data set         10.708\n",
      "Kurt test p-value          0.000\n",
      "Norm test p-value          0.000\n",
      "\n",
      "Results for symbol AAPL\n",
      "--------------------------------\n",
      "Skew of data set         -0.300\n",
      "Skew test p-value          0.000\n",
      "Kurt of data set          6.706\n",
      "Kurt test p-value          0.000\n",
      "Norm test p-value          0.000\n"
     ]
    },
    {
     "data": {
      "image/png": "[encoded data removed]",
      "text/plain": [
       "<Figure size 432x288 with 1 Axes>"
      ]
     },
     "metadata": {},
     "output_type": "display_data"
    }
   ],
   "source": [
    "scs.probplot(log_returns['AAPL'].dropna(), plot=plt,fit=True)\n",
    "plt.grid(True)\n",
    "plt.xlabel('theoretical quantiles')\n",
    "plt.ylabel('sample quantiles')\n",
    "for sym in symbols:\n",
    "    print (\"\\nResults for symbol %s\" % sym)\n",
    "    print (32 * \"-\")\n",
    "    log_data = np.array(log_returns[sym].dropna())\n",
    "    normality_tests(log_data)"
   ]
  },
  {
   "cell_type": "code",
   "execution_count": 30,
   "metadata": {
    "collapsed": false
   },
   "outputs": [
    {
     "data": {
      "image/png": "[encoded data removed]",
      "text/plain": [
       "<Figure size 432x288 with 1 Axes>"
      ]
     },
     "metadata": {},
     "output_type": "display_data"
    }
   ],
   "source": [
    "plt.acorr(log_returns['SP'].dropna(), maxlags=20,lw=4)\n",
    "plt.title('Autocorrelations of Log-returns of S&P500')\n",
    "plt.show()"
   ]
  },
  {
   "cell_type": "code",
   "execution_count": 31,
   "metadata": {
    "collapsed": false
   },
   "outputs": [
    {
     "data": {
      "image/png": "[encoded data removed]",
      "text/plain": [
       "<Figure size 432x288 with 1 Axes>"
      ]
     },
     "metadata": {},
     "output_type": "display_data"
    }
   ],
   "source": [
    "plt.acorr(log_returns['MSFT'].dropna(), maxlags=20,lw=4)\n",
    "plt.title('Autocorrelations of Log-returns of MSFT')\n",
    "plt.show()"
   ]
  },
  {
   "cell_type": "code",
   "execution_count": 32,
   "metadata": {
    "collapsed": false,
    "scrolled": true
   },
   "outputs": [
    {
     "data": {
      "image/png": "[encoded data removed]",
      "text/plain": [
       "<Figure size 432x288 with 1 Axes>"
      ]
     },
     "metadata": {},
     "output_type": "display_data"
    }
   ],
   "source": [
    "plt.acorr(log_returns['AAPL'].dropna(), maxlags=20,lw=4)\n",
    "plt.title('Autocorrelations of Log-returns of AAPL')\n",
    "plt.show()"
   ]
  },
  {
   "cell_type": "markdown",
   "metadata": {},
   "source": [
    "## Stylised Empirical Facts of Financial Time Series"
   ]
  },
  {
   "cell_type": "markdown",
   "metadata": {},
   "source": [
    "1. Heavy(Fat) Tails of the distribution of returns. Their statistics indicate finite variance, excess kurtosis. Possible distributions are power law, and Pareto, but they are difficult to fit to the data. Hence extreme (or low probability) events are far more probable than predicted using normal distributions.    \n",
    "2. Lack of Autocorrelation of Returns.     \n",
    "3. Gain/Loss Asymmetry. Large drops are more frequent than large rises.  \n",
    "4. Normality increases with decrease of frequency (increase of spread) of observation.  \n",
    "5. Volatility Clustering. Large(small) changes tend to be followed by large(small) changes.  \n",
    "6. Conditional heavy tails. What is left after removing volatility still remains heavy tailed.  \n",
    "7. Long range dependence on volatility. The autocorrelation function decays slowly.  \n",
    "8. Leverage effect. Volatility is negatively correlated with returns.  (As one rises, the other falls on average).     \n",
    "9. Positive Correlation between Number of shares traded and Volatility.  (Both rise and fall together on average).    \n"
   ]
  }
 ],
 "metadata": {
  "kernelspec": {
   "display_name": "Python 3",
   "language": "python",
   "name": "python3"
  },
  "language_info": {
   "codemirror_mode": {
    "name": "ipython",
    "version": 3
   },
   "file_extension": ".py",
   "mimetype": "text/x-python",
   "name": "python",
   "nbconvert_exporter": "python",
   "pygments_lexer": "ipython3",
   "version": "3.5.3"
  }
 },
 "nbformat": 4,
 "nbformat_minor": 2
}
