{
 "cells": [
  {
   "cell_type": "markdown",
   "metadata": {},
   "source": [
    "## Monte Carlo Methods"
   ]
  },
  {
   "cell_type": "markdown",
   "metadata": {},
   "source": [
    "### Table of Contents: \n",
    "* [Calculate Pi by MC](#Calculate-Pi-by-MC)\n",
    "* [The Riemann Integral](#The-Riemann-Integral)\n",
    "* [Integrals by MC](#Integrals-by-MC)\n",
    "* [Black Scholes Formula for a European Call](#Black-Scholes-Formula-for-a-European-Call)\n",
    "* [Timing a Segment of Code](#Timing-a-Segment-of-Code)\n",
    "* [Evaluating call using the analytical solution of the GBM Equation](#Evaluating-call-using-the-analytical-solution-of-the-GBM-Equation)  \n",
    "* [Value of Call using vectorised difference equation and Monte Carlo](#Value-of-Call-using-vectorised-difference-equation-and-Monte-Carlo)  \n",
    "* [Plotting Brownian Motions](#Plotting-Brownian-Motions)\n",
    "* [Implied Volatility](#Implied-Volatility)"
   ]
  },
  {
   "cell_type": "code",
   "execution_count": 1,
   "metadata": {
    "collapsed": true
   },
   "outputs": [],
   "source": [
    "import numpy as np\n",
    "from matplotlib import pyplot as plt\n",
    "\n",
    "import warnings\n",
    "warnings.simplefilter('ignore')\n"
   ]
  },
  {
   "cell_type": "markdown",
   "metadata": {},
   "source": [
    "### Calculate Pi by MC"
   ]
  },
  {
   "cell_type": "markdown",
   "metadata": {},
   "source": [
    "#### Using a loop"
   ]
  },
  {
   "cell_type": "code",
   "execution_count": 4,
   "metadata": {
    "collapsed": false,
    "scrolled": true
   },
   "outputs": [
    {
     "name": "stdout",
     "output_type": "stream",
     "text": [
      "3.1430088888888887\n",
      "3.141211111111111\n",
      "3.14092\n",
      "3.1389955555555558\n",
      "1 loop, best of 3: 2.76 s per loop\n"
     ]
    }
   ],
   "source": [
    "%%timeit\n",
    "# Using a loop\n",
    "N=1800000\n",
    "count=0\n",
    "points=np.random.uniform(-1,1,(N,2))\n",
    "for i in np.arange(N):\n",
    "    if points[i,0]**2+points[i,1]**2 <=1:\n",
    "        count+=1\n",
    "print(4*count/N)"
   ]
  },
  {
   "cell_type": "markdown",
   "metadata": {},
   "source": [
    "#### Using np.where"
   ]
  },
  {
   "cell_type": "code",
   "execution_count": 6,
   "metadata": {
    "collapsed": false
   },
   "outputs": [
    {
     "name": "stdout",
     "output_type": "stream",
     "text": [
      "3.1415086666666667\n"
     ]
    }
   ],
   "source": [
    "#%%timeit\n",
    "# np.where(consition,1,0) sets array element to 1 if condition=True, else sets it to 0\n",
    "N=18000000\n",
    "points=np.random.uniform(-1,1,(N,2))\n",
    "count=np.where(points[:,0]**2+points[:,1]**2<=1,1,0).sum()\n",
    "print(4*count/N)"
   ]
  },
  {
   "cell_type": "markdown",
   "metadata": {},
   "source": [
    "#### Vectorising"
   ]
  },
  {
   "cell_type": "code",
   "execution_count": 7,
   "metadata": {
    "collapsed": false,
    "scrolled": true
   },
   "outputs": [
    {
     "name": "stdout",
     "output_type": "stream",
     "text": [
      "3.1424155555555555\n"
     ]
    }
   ],
   "source": [
    "#%%timeit\n",
    "\n",
    "N=1800000\n",
    "points=np.random.uniform(-1,1,(N,2))\n",
    "points=points[:,0]**2+points[:,1]**2\n",
    "points=points[points<=1]\n",
    "print(4*len(points)/N)"
   ]
  },
  {
   "cell_type": "markdown",
   "metadata": {
    "collapsed": true
   },
   "source": [
    "#### Time for above 3: 4 seconds, 1.5 seconds, 0.2 seconds"
   ]
  },
  {
   "cell_type": "markdown",
   "metadata": {},
   "source": [
    "### The Riemann Integral\n",
    "We split the interval  $[0,T]$  into  $n$  intervals, each of width  $Δt=T/N$,\n",
    "$0=t_0<t_1<⋯<t_i<⋯<t_n=T$. Note that there are $n+1$ points $t_i$. We define the Riemann Integral by\n",
    "$$\\int_0^T f(t)\\,dt=\\lim_{n\\to\\infty}\\sum_{i=0}^{n-1}f(t_i)\\Delta t$$\n",
    "Note that we could have also used a partition of varying $\\Delta t$ and $f(\\xi_i),t_i\\le\\xi_i\\le t_{i+1}$ \n",
    "but we will need this definition when we extend to stochastic integrals.\n",
    "\n",
    "We know from elementary calculus that $\\int_0^\\pi (2+\\cos t)\\,dt=[2t+\\sin\\ t]_0^\\pi=2\\pi+\\sin\\pi=2\\pi,\\ \\int_0^Tt^5\\,dt=\\frac16 T^6$.     \n",
    "We calculate straight from the definition."
   ]
  },
  {
   "cell_type": "markdown",
   "metadata": {},
   "source": [
    "#### Plot the Function"
   ]
  },
  {
   "cell_type": "code",
   "execution_count": 8,
   "metadata": {
    "collapsed": false,
    "scrolled": true
   },
   "outputs": [
    {
     "data": {
      "image/png": "[encoded data removed]",
      "text/plain": [
       "<Figure size 432x288 with 1 Axes>"
      ]
     },
     "metadata": {},
     "output_type": "display_data"
    }
   ],
   "source": [
    "T=7;N=100\n",
    "t=np.linspace(-T,T,N)\n",
    "plt.plot(t,2+np.cos(t))\n",
    "plt.ylim([0,3.5])\n",
    "plt.title(r'Function $y=2+\\cos(t)$')\n",
    "plt.show()"
   ]
  },
  {
   "cell_type": "markdown",
   "metadata": {},
   "source": [
    "#### Calculate Integral from 0 to $\\pi$ using the Riemann Sum"
   ]
  },
  {
   "cell_type": "code",
   "execution_count": 9,
   "metadata": {
    "collapsed": false,
    "scrolled": true
   },
   "outputs": [
    {
     "name": "stdout",
     "output_type": "stream",
     "text": [
      "6.283185935498182\n",
      "6.283185307179586\n"
     ]
    }
   ],
   "source": [
    "#%%timeit\n",
    "N=10000000\n",
    "T=np.pi\n",
    "dt=T/(N-1)\n",
    "\n",
    "t=np.linspace(0,T,N)\n",
    "\n",
    "Int=dt*np.sum(2+np.cos(t))\n",
    "\n",
    "print(Int)\n",
    "print(2*np.pi)"
   ]
  },
  {
   "cell_type": "markdown",
   "metadata": {},
   "source": [
    "#### Calculate the integral of $t^5$ Usinf Riemann Sum"
   ]
  },
  {
   "cell_type": "code",
   "execution_count": 10,
   "metadata": {
    "collapsed": false
   },
   "outputs": [
    {
     "name": "stdout",
     "output_type": "stream",
     "text": [
      "682.6668714667038\n",
      "682.6666666666666\n"
     ]
    }
   ],
   "source": [
    "#%%timeit\n",
    "N=10000000\n",
    "T=4\n",
    "dt=T/(N-1)\n",
    "\n",
    "t=np.linspace(0,T,N)\n",
    "\n",
    "Int=dt*np.sum(t**5)\n",
    "\n",
    "print(Int)\n",
    "print((1/6)*(T**6))"
   ]
  },
  {
   "cell_type": "code",
   "execution_count": null,
   "metadata": {
    "collapsed": false
   },
   "outputs": [],
   "source": []
  },
  {
   "cell_type": "markdown",
   "metadata": {},
   "source": [
    "### Integrals by MC"
   ]
  },
  {
   "cell_type": "markdown",
   "metadata": {},
   "source": [
    "For a random variable $X$ with density $p(x)dx$ for x in $[a,b]$ the expected value of $f(X)$\n",
    "(for some \"nice\" function f) is the integral\n",
    "$$E(f(X))=\\int_a^bf(x)p(x)\\,dx$$\n",
    "In the case of a uniform distribution \n",
    "$$p(x)dx = \\frac1{b-a}dx$$\n",
    "So \n",
    "$$ \\int_a^bf(x)\\,dx= (b-a)E(f(X))$$\n",
    "Using the Law of Large Numbers, we have\n",
    "$$(b-a)E(f(X))=(b-a)\\lim_{n\\to\\infty}\\frac1n\\sum_{i=0}^{n-1}f(\\xi_i)= \\int_a^bf(x)\\,dx$$\n",
    "where the $\\xi_i$ are draws from $n$ independent uniform variables (the limit is taken in the special sense that convergence takes place everyhere except for a set of events of probability 0 - it is valid also for any other probability distribution provided the rv's have finite expectation of their absolute values).\n",
    "This leads to the Monte Carlo method of evaluating integrals below. \n",
    "\n",
    "The variance of the estimate is easily calculated and is equal to $\\sigma^2_{f(X)}/n$. \n",
    "The standard error is $\\sigma_{f(X)}/\\sqrt{n}$.  \n",
    "An estimate for $σ_{f(X)}^2$ is $\\frac1{n − 1}\\sum_0^{n-1}(f(\\xi_i) − \\hat I_f )^2$ where $\\hat I_f$ is the estimate of the integral.\n"
   ]
  },
  {
   "cell_type": "markdown",
   "metadata": {},
   "source": [
    "#### Integral of sin(t) over [0,pi] is 2 using Monte Carlo Method"
   ]
  },
  {
   "cell_type": "code",
   "execution_count": 13,
   "metadata": {
    "collapsed": false,
    "scrolled": false
   },
   "outputs": [
    {
     "name": "stdout",
     "output_type": "stream",
     "text": [
      "1.9986934044351679\n"
     ]
    }
   ],
   "source": [
    "#%%timeit\n",
    "\n",
    "N=1000000\n",
    "lowlim=0\n",
    "uplim=np.pi\n",
    "f=np.sin\n",
    "points=np.random.uniform(0,np.pi,N)\n",
    "Int=((uplim-lowlim)/N)*(f(points)).sum()\n",
    "print(Int)"
   ]
  },
  {
   "cell_type": "markdown",
   "metadata": {},
   "source": [
    "### Exact Formula for Call Using the BS Formula"
   ]
  },
  {
   "cell_type": "code",
   "execution_count": null,
   "metadata": {
    "collapsed": true
   },
   "outputs": [],
   "source": []
  },
  {
   "cell_type": "markdown",
   "metadata": {},
   "source": [
    "\\begin{align}\n",
    "d1&=\\frac{\\log\\frac{S_0}K + (r+\\frac12\\sigma^2)T}{\\sigma\\sqrt{T}}\\\\\n",
    "d2&=\\frac{\\log\\frac{S_0}K + (r-\\frac12\\sigma^2)T}{\\sigma\\sqrt{T}}\\\\\n",
    "CV&=S_0N(d1)-Ke^{-rT}N(d2)\n",
    "\\end{align}\n",
    "($N(x)$ is the Standard Normal Cumulative Density Function (pdf)).  \n",
    "**Note** that the price depends only on the volatility (stock-dependent) and all the rest of the parameters are either market parameters or chosen by the buyer/seller of the option."
   ]
  },
  {
   "cell_type": "markdown",
   "metadata": {},
   "source": [
    "### Code"
   ]
  },
  {
   "cell_type": "code",
   "execution_count": 30,
   "metadata": {
    "collapsed": false
   },
   "outputs": [
    {
     "data": {
      "text/plain": [
       "8.0213522351431763"
      ]
     },
     "execution_count": 30,
     "metadata": {},
     "output_type": "execute_result"
    }
   ],
   "source": [
    "def call_value(S0, K, T, r, sigma):\n",
    "    ''' \n",
    "    Valuation of European call option in Black Scholes model\n",
    "    using the analytic formula.\n",
    "    \n",
    "    Parameters\n",
    "    ==========\n",
    "    S0 : float        initial stock/index level\n",
    "    K : float         strike price\n",
    "    T : float         maturity date (in year fractions)\n",
    "    r : float         constant risk-free short rate\n",
    "    sigma : float     volatility factor in diffusion term\n",
    "    \n",
    "    Returns\n",
    "    =======\n",
    "    value : float     present value of the European call option\n",
    "    '''\n",
    "    from scipy import stats\n",
    "\n",
    "    S0 = float(S0)\n",
    "    d1 = (np.log(S0 / K) + (r + 0.5 * sigma ** 2) * T) / (sigma * np.sqrt(T))\n",
    "    d2 = (np.log(S0 / K) + (r - 0.5 * sigma ** 2) * T) / (sigma * np.sqrt(T))\n",
    "    value = (S0 * stats.norm.cdf(d1, 0.0, 1.0)\n",
    "            - K * np.exp(-r * T) * stats.norm.cdf(d2, 0.0, 1.0))\n",
    "            # stats.norm.cdf --> cumulative distribution function for the normal distribution\n",
    "    return value\n",
    "\n",
    "c=call_value(100,105,1,0.05,0.2)\n",
    "c"
   ]
  },
  {
   "cell_type": "markdown",
   "metadata": {},
   "source": [
    "### Black Scholes Formula for a European Call"
   ]
  },
  {
   "cell_type": "markdown",
   "metadata": {},
   "source": [
    "### Timing a Segment of Code"
   ]
  },
  {
   "cell_type": "code",
   "execution_count": 32,
   "metadata": {
    "collapsed": false,
    "scrolled": true
   },
   "outputs": [
    {
     "name": "stdout",
     "output_type": "stream",
     "text": [
      "Time to run this code segment = 0.00100\n"
     ]
    }
   ],
   "source": [
    "import time as tm\n",
    "\n",
    "S0 = 100.\n",
    "K = 105.\n",
    "T = 1.0\n",
    "r = 0.05\n",
    "sigma = 0.2\n",
    "t0=tm.time()\n",
    "call_value(S0, K, T, r, sigma)\n",
    "t0=tm.time()-t0\n",
    "print('Time to run this code segment = %5.5f' % t0)"
   ]
  },
  {
   "cell_type": "markdown",
   "metadata": {},
   "source": [
    "### Evaluating call using the analytical solution of the GBM Equation\n"
   ]
  },
  {
   "cell_type": "code",
   "execution_count": 3,
   "metadata": {
    "collapsed": false,
    "scrolled": false
   },
   "outputs": [
    {
     "name": "stdout",
     "output_type": "stream",
     "text": [
      "Value of the European Call Option 8.01241925\n",
      "Value of the European Call Option 8.01241925\n",
      "Value of the European Call Option 8.01241925\n",
      "Value of the European Call Option 8.01241925\n",
      "Value of the European Call Option 8.01241925\n",
      "Value of the European Call Option 8.01241925\n",
      "Value of the European Call Option 8.01241925\n",
      "Value of the European Call Option 8.01241925\n",
      "237 ms ± 2.54 ms per loop (mean ± std. dev. of 7 runs, 1 loop each)\n"
     ]
    }
   ],
   "source": [
    "#%%timeit\n",
    "\n",
    "import numpy as np\n",
    "S0 = 100.\n",
    "K = 105.\n",
    "T = 1.0\n",
    "r = 0.05\n",
    "sigma = 0.2\n",
    "\n",
    "I = 2000000\n",
    "\n",
    "np.random.seed(1000)\n",
    "\n",
    "z = np.random.standard_normal(I)\n",
    "ST = S0 * np.exp((r-0.5*sigma**2) * T + sigma * np.sqrt(T) * z)\n",
    "hT = np.maximum(ST - K, 0)\n",
    "C0 = np.exp(-r * T) * np.sum(hT) / I\n",
    "\n",
    "print(\"Value of the European Call Option %10.8f\" % C0) \n",
    "\n",
    "\n",
    "\n"
   ]
  },
  {
   "cell_type": "markdown",
   "metadata": {},
   "source": [
    "### Value of Call using vectorised difference equation and Monte Carlo"
   ]
  },
  {
   "cell_type": "code",
   "execution_count": 36,
   "metadata": {
    "collapsed": false,
    "scrolled": true
   },
   "outputs": [
    {
     "name": "stdout",
     "output_type": "stream",
     "text": [
      "Value of the European Call Option  8.0239434\n"
     ]
    }
   ],
   "source": [
    "#%%timeit\n",
    "\n",
    "import numpy as np\n",
    "S0 = 100.\n",
    "K = 105.\n",
    "T = 1.0\n",
    "r = 0.05\n",
    "sigma = 0.2\n",
    "\n",
    "I = 100000\n",
    "N=50\n",
    "#np.random.seed(1000)\n",
    "\n",
    "dt=T/N\n",
    "s=np.zeros((N+1,I))    # Each column represents a single path  (I of these) and each row represents a t_i (N+1 of these)\n",
    "s[0,:]=S0              # value of each path at time t_0\n",
    "call_vals=np.zeros(I)               \n",
    "\n",
    "# %timeit\n",
    "nvals=40;tmp=0.\n",
    "for _ in range(nvals):\n",
    "    for j in range(1,N+1):\n",
    "        z = np.random.standard_normal(I)                   # draws from a standard normal distribution\n",
    "        s[j,:]=s[j-1,:]*(1+r*dt+sigma*np.sqrt(dt)*z)       # vector difference equation\n",
    "    call_vals=call_vals+np.maximum(s[-1,:]-K,0)\n",
    "\n",
    "    Call_Value=np.exp(-r*T)*np.sum(call_vals)/I\n",
    "    tmp=tmp+Call_Value\n",
    "    call_vals=np.zeros(I)\n",
    "tmp=tmp/nvals\n",
    "print(\"Value of the European Call Option %10.7f\" % tmp) "
   ]
  },
  {
   "cell_type": "markdown",
   "metadata": {},
   "source": [
    "### Plotting Brownian Motions"
   ]
  },
  {
   "cell_type": "code",
   "execution_count": 37,
   "metadata": {
    "collapsed": false,
    "scrolled": true
   },
   "outputs": [
    {
     "data": {
      "image/png": "[encoded data removed]",
      "text/plain": [
       "<matplotlib.figure.Figure at 0x28306b12ef0>"
      ]
     },
     "metadata": {},
     "output_type": "display_data"
    }
   ],
   "source": [
    "\n",
    "N=1001\n",
    "T=1\n",
    "dt=1/(N-1)\n",
    "t=np.linspace(0,1,N)\n",
    "w=np.sqrt(dt)*np.random.randn(N)\n",
    "w=w.cumsum()\n",
    "plt.plot(t,w)\n",
    "plt.title('Brownian Motion on [0,1]')\n",
    "plt.xlabel('time')\n",
    "plt.ylabel('value')\n",
    "plt.show()"
   ]
  },
  {
   "cell_type": "code",
   "execution_count": 14,
   "metadata": {
    "collapsed": true
   },
   "outputs": [],
   "source": []
  },
  {
   "cell_type": "markdown",
   "metadata": {},
   "source": [
    "### Implied Volatility"
   ]
  },
  {
   "cell_type": "markdown",
   "metadata": {},
   "source": [
    "As remarked previously, the BS formula for option pricing contains only one parameter, the volatility $\\sigma$, which \n",
    "does not come from the market or is chosen by the buyer/seller. It can be shown that the relation between option price \n",
    "and volatility is 1-1 onto (bijective). \n",
    "For each sigma, the option pricing equation gives a value of the option price, and for each price there is a unique sigma giving this price via the formula.\n",
    "\n",
    "Given a price we could write a program to find the corresponding sigma, which involves inverting the pricing equation, which is nonlinear and therefore requires Newton's method or some other approximate method of solving the problem. This corresponding value of sigma is often quoted by markets instead of the price and is called the **Implied Volatility**.  \n",
    "If the BS formulae hold then varying the expiry time or the strike should lead to the same value of $\\sigma$. In practice, since the crash of 1987, this has not been the case but the shape of the implied volatility curves resembles a downward smile or half-smile (smirk). The programmes have to be varied so as to cope with this problem."
   ]
  }
 ],
 "metadata": {
  "kernelspec": {
   "display_name": "Python 3",
   "language": "python",
   "name": "python3"
  },
  "language_info": {
   "codemirror_mode": {
    "name": "ipython",
    "version": 3
   },
   "file_extension": ".py",
   "mimetype": "text/x-python",
   "name": "python",
   "nbconvert_exporter": "python",
   "pygments_lexer": "ipython3",
   "version": "3.5.3"
  }
 },
 "nbformat": 4,
 "nbformat_minor": 1
}
