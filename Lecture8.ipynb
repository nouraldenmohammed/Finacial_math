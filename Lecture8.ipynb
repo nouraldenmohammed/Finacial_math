{
 "cells": [
  {
   "cell_type": "markdown",
   "metadata": {},
   "source": [
    "### Martingales\n",
    "A stochastic process $X(t,\\omega)$ is said to be a *Martingale* if for $S\\le t$ we have\n",
    "$$E(X(t,\\omega)|F_s)=X(s)$$\n",
    "Where $F_s$ is the information available at time $s$ and the RHS is the value of $X$ that we know occured at $s$ (we know $F_s$). Thus the value of $X$ at time $s$ is our best (expected value) guess for what will occur in the future at time $t$. This will be important in pricing below.\n",
    "\n",
    "It can easily be shown that $\\sigma W$ is a martingale for constant $\\sigma$. Also $\\int_0^t f(u,\\omega) dW(u)$ can be shown to be a martingale. A constant is trivially a martingasle."
   ]
  },
  {
   "cell_type": "markdown",
   "metadata": {},
   "source": [
    "## The Black-Scholes Market"
   ]
  },
  {
   "cell_type": "markdown",
   "metadata": {},
   "source": [
    "\n",
    "We assume that the market consists of the following:\n",
    "\n",
    "* A deterministic bank account $B(t)$ ($B(0)=1$) with a positive constant\n",
    "risk-free continuous interest rate $r$.\n",
    "*  A stock price $S(t)$, whose dynamics we model by a GBM with constant $\\mu$ and\n",
    "constant volatility per unit price $\\sigma\\ne0$. $\\mu$ is called the\n",
    "$drift$ and $\\sigma$ is called the {\\em volatility}. [$\\sigma$ is the volatility of $\\log S$ and of the returns $dS/S$].\n",
    "* The exact solution of the stock price equation is known at time $t$ once\n",
    "the value of BM $W(t)$ is known. We therefore consider the\n",
    "stochastic process $S(t,\\omega)$ with respect to the filtration\n",
    "$\\mathcal F^W_t$\n"
   ]
  },
  {
   "cell_type": "markdown",
   "metadata": {},
   "source": [
    "Then\n",
    "\\begin{eqnarray*}\n",
    "\\frac{dB}B&=&r\\,dt,\\quad B(0)=1\\\\\n",
    "\\frac{dS}S&=&\\mu\\, dt+\\sigma\\, dW\n",
    "\\end{eqnarray*}\n",
    "The exact solutions of these equations are\n",
    "\\begin{eqnarray*}\n",
    "B(t)&=&e^{rt}\\\\\n",
    "S(t)&=&S(0)e^{(\\mu-\\frac 12\\sigma^2)t+\\sigma W(t)}\n",
    "\\end{eqnarray*}\n",
    "using the solution obtained in the previous section."
   ]
  },
  {
   "cell_type": "markdown",
   "metadata": {},
   "source": [
    "Then using $B(t)>0$ as a numeraire (unit of measurement, so that\n",
    "$S/B$ represents the number of $B$-units in price $S$) and using the\n",
    "quotient formulae, we obtain  \n",
    "**Theorem**\n",
    "\\begin{eqnarray*}\n",
    "\\frac{d(\\frac SB)}{\\frac SB}&=&(\\mu-r)\\,dt+\\sigma\\, dW\\\\\n",
    "&=&\\sigma\\,d(W+\\frac{\\mu-r}\\sigma \\,t)\\\\\n",
    "\\frac{d(\\frac SB)}{\\frac SB}&=&\\sigma\\,dW^{\\frac SB}\\\\\n",
    "W^{\\frac SB}&=&W+\\frac{\\mu-r}\\sigma \\,t\n",
    "\\end{eqnarray*}\n"
   ]
  },
  {
   "cell_type": "markdown",
   "metadata": {},
   "source": [
    "Hence $\\frac{S(t)}{B(t)}=\\frac{S(0)}{B(0)}+\\int_0^t \\sigma\\frac SBdW^{\\frac SB}$ will be a martingale if $W^{\\frac SB}$ is a martingale. Similarly, this is a property of all solutions of SDE with zero drift (coefficient of $dt$).\n",
    "\n",
    "By an important theorem of Girsanov, $W^{\\frac SB}$ is a BM\n",
    "with respect to a probability measure $\\mathbb Q$ equivalent to\n",
    "$\\mathbb P$ (that is, it has the same sets of probability 0). Then $\\frac SB$ has zero drift with respect to $W^{\\frac SB}$ and is a martingale with respect to filtration  $\\mathcal F_t^W$. Thus\n",
    "$$E^{\\mathbb Q}(\\frac {S(t)}{B(t)}\\,|\\,\\mathcal F_s^{\\frac SB})=\\frac{S(s)}{B(s)}$$\n",
    "This indicates that information at time $s\\le t$ will not allow us to get a better forecast for time $t$ than just using the present value. By defining arbitrage as the possibility of making a profit with strictly positive probability without taking an y risk, it can be shown that an asset being martingale with respect to a probability measure cannot lead to arbitrage. We therefore seek measures to transform our equation with respect to real world probability into one which makes the asset a martingale.\n",
    "\n",
    "\n",
    "(Note that the $\\mathcal F_t^{\\frac SB}$ is the same as $\\mathcal\n",
    "F_t^W$ if $\\mu,r,\\sigma,B$ are deterministic and $S$ is known once $W$ is\n",
    "known). $\\mathbb Q$ is called an $Risk\\ Neutral\\ Measure$\n",
    "(RNM). This is a consequence of the fact that the SDE satisfied by\n",
    "$S/B$ has zero drift. (Hence to create martingales, we must find a\n",
    "way of removing the drift in SDE)."
   ]
  },
  {
   "cell_type": "markdown",
   "metadata": {},
   "source": [
    "The following is a restatement of the martingale property of the stochastic integral:  \n",
    "**Proposition**  \n",
    "If the drift of an SDE is 0, so that $dS=\\sigma dW$, then the solution is\n",
    "a martingale.\n",
    "\n",
    "\n",
    "We have proved:  \n",
    "**Theorem**  \n",
    "There exists an RNM $\\mathbb Q$ such that $\\frac SB$ is a martingale\n",
    "with respect to the $W^{\\frac SB}$ filtration, where expectations are taken with respect to\n",
    "$\\mathbb Q$."
   ]
  },
  {
   "cell_type": "markdown",
   "metadata": {},
   "source": [
    "We can find an equation for $S$ in terms of $W^{\\frac SB}$ as\n",
    "follows:  \n",
    "**Theorem**   \n",
    "\\begin{eqnarray*}\n",
    "\\frac{dS}S&=&\\mu\\,dt+\\sigma\\,dW\\\\\n",
    "&=&r\\,dt+\\sigma\\,d(W-\\frac{\\mu-r}\\sigma \\,t)\\\\\n",
    "\\frac{dS}S&=&r\\,dt+\\sigma\\,dW^{\\frac SB}\\qquad\\text{Risk Neutral Equation}\\\\\n",
    "W^{\\frac SB}&=&W-\\frac{\\mu-r}\\sigma t\n",
    "\\end{eqnarray*}\n",
    "\n",
    "Hence with respect to the RNM, the drift\n",
    "is $r$ and the expected value of $S$ is $S(0)e^{rt}$. We set $r$ equal to the risk-free rate. So the\n",
    "expected value of $S$ is the value of the bank account multiplied by\n",
    "the initial value. Thus we are in a risk-neutral situation - there would be arbitrage if this were not the case, as can be shown. The last theorem is very important - it was one of\n",
    "the aims of the whole process. The equation is called the \n",
    "$risk{-}neutral\\ equation$ for a reason to be explained later. This equation, with drift $r$, MUST be used when pricing options by probabilistic methods.\n",
    "\n",
    "**Note** Using the RNM, $E(S(t))=e^{rt}$ as we have seen and we often use the terminology $\\nu=r-\\frac12\\sigma^2$ so that $E(\\log S(t))=\\nu t$. The variance of $\\log(S(t))$ is also $\\sigma^2$.   $\\log S(t)$ has distribution $ N(\\nu t,\\sigma)$. \n",
    "\n",
    "**Definition**  \n",
    "A __Portfolio__ is a pair of RVs $(\\phi(t),\\psi(t))$ which  are left continuous with right hand limits, called predictable processes (actually, the term is usually reserved for a slightly larger set of processes).  The value $V(t)$ of the portfolio is given by\n",
    "$$V(t)=\\phi(t)B(t)+\\psi(t)S(t)$$\n",
    "The portfolio is said to be $self-financing$ if\n",
    "$$dV(t)=\\phi(t)dB(t)+\\psi(t)dS(t)$$\n",
    "\n",
    "\n",
    "**Note**  \n",
    "1. Left continuity implies that knowing the coefficients at\n",
    "all times less than $t$ implies knowing the coefficients at time $t$ also.\n",
    "2. For self-financing portfolios, the changes in the portfolio in\n",
    "time is due only to the change $dS,dB$ in the assets, and not to extra\n",
    "investment or disinvestment of amounts $d\\phi B,d\\psi S$ or of amounts of cash added from outside to the portfolio. We show\n",
    "that $V/B$ is also a martingale in the RNM."
   ]
  },
  {
   "cell_type": "markdown",
   "metadata": {},
   "source": [
    "Theorem  \n",
    "Let $V$ be a self-financing portfolio.\n",
    "Then\n",
    "$$d\\left(\\frac VB\\right)=\\psi d\\left(\\frac SB\\right)$$\n",
    "and $V/B$ is a martingale under the RNM  with respect to the\n",
    "Brownian filtration. Also\n",
    "\\begin{equation} \n",
    "V(t)=e^{-r(T-t)}E^{\\mathbb Q}(V(T)\\,|\\,\\mathcal F_t)\n",
    "\\end{equation}\n",
    "\n",
    "\n",
    "**Proof** By the quotient formula, we have\n",
    "\\begin{eqnarray*}\n",
    "\\frac{d(\\frac VB)}{\\frac VB}&=&\\frac{dV}V-\\frac{dB}B+0=\\frac{dV}V-r\\,dt\\qquad {\\rm (using\\ the\\ quotient\\ formula\\ and\\ remembering\\ that\\ $dB=rBdt$\\ which\\ implies\\ that\\ the\\ third\\ term\\ is\\ 0)}\\\\\n",
    "d(\\frac VB)&=&\\frac{dV}B-r\\,\\frac VB\\,dt\\\\\n",
    "&=&\\frac 1B(\\phi dB+\\psi\\,dS-rV\\,dt)\\\\\n",
    "&=&\\frac 1B(r\\phi B\\,dt+\\psi\\,dS-r(\\phi\\,B+\\psi\\,S)\\,dt)\\\\\n",
    "&=&\\frac{\\psi}{B}(dS-rSdt)=\\psi \\frac SB\\left(\\frac{dS}S-\\frac{dB}B\\right)=\\psi d\\left(\\frac SB\\right)\\quad\\text{(by the quotient formula)}\\\\\n",
    "&=&\\psi\\frac{S}{B}\\sigma dW^{\\frac BS}\n",
    "\\end{eqnarray*}\n",
    "Hence $\\frac VB$ is a martingale.\n",
    "\n",
    "\n",
    "Thus if we know $B(t),S(t)$ (and hence know $\\mathcal F_t$) at some time $t$, and if\n",
    "$T>t$, then\n",
    "$$\\frac{V(t)}{B(t)}=E^{\\mathbb Q}(\\frac {V(T)}{B(T)}\\,|\\,\\mathcal F_t)$$\n",
    "Explicitly, $\\frac{B(t)}{B(T)}=e^{-r(T-t)}$ and \n",
    "\\begin{equation}\n",
    "V(t)=e^{-r(T-t)}E^{\\mathbb Q}(V(T)\\,|\\,\\mathcal F_t)\n",
    "\\end{equation}\n"
   ]
  },
  {
   "cell_type": "code",
   "execution_count": null,
   "metadata": {
    "collapsed": true
   },
   "outputs": [],
   "source": []
  },
  {
   "cell_type": "markdown",
   "metadata": {},
   "source": [
    "Let $H(x)$ be an integrable real-valued function of $x$ and suppose that\n",
    "we can construct a self-financing portfolio $V$ such that\n",
    "$$V(T)=H(S(T))$$\n",
    "Suppose that $H(S(T))$ is the value of an option (or some other type\n",
    "of asset) at time $T$ (this is the payoff). The option is also called a claim. Then by no-arbitrage arguments, since the\n",
    "portfolio consisting of the option and the above portfolio have the\n",
    "same payoff at time $T$, and the portfolio is self-financing,\n",
    "by no-arbitrage arguments it must be the case that the value of the\n",
    "option or asset at time $t$ having value $H(S(T))$ at time $T$, is $V(t)$. Hence we have proved the first part of the following in which we let $H(s)=(s-X)^+$:"
   ]
  },
  {
   "cell_type": "markdown",
   "metadata": {},
   "source": [
    "**Theorem**\n",
    "If we can construct a portfolio $V(t)$ such\n",
    "that $V(T)=(S(T)-X)^+$, the price of a European Call at time $t$ is\n",
    "$V(t)$. In particular,\n",
    "$$V(0)=e^{-rT}E^{\\mathbb Q}((S(T)-X)^+)$$\n",
    "where we have dropped the conditioning on $\\mathcal F_0$ since\n",
    "$\\mathcal F_0$ has no additional information. Specifically, the\n",
    "price is given by\n",
    "$$V(0)=e^{-rT}\\int_{-\\infty}^{\\infty} (S(0)e^{(r-\\frac 12\\sigma^2)T+\\sigma R}-X)^+\\frac {e^{-\\frac\n",
    "12\\frac{R^2}T}}{\\sqrt{2\\pi T}}\\,dR$$\n",
    "\n",
    "**Proof** The first part has been proved. To prove the last part, recall that we have seen that $S(t)$ is the solution of\n",
    "the SDE where the BM is taken with respect to the risk neutral\n",
    "measure and the drift is $r$:\n",
    "$$\\frac{dS}S=r dt + \\sigma dW^{\\frac SB}$$\n",
    "Hence we have\n",
    "$$S(T)=S(0)e^{(r-\\frac 12\\sigma^2)T+\\sigma W^{\\frac SB}(T)}$$\n",
    "With respect to $\\mathbb Q$, $W^{\\frac SB}(T)$ is a  normally distributed random variable\n",
    "with variance $T$, and $S$ is a function of this random variable and no other. Hence we\n",
    "may evaluate the expectation with respect to $\\mathbb Q$ by integrating with respect to\n",
    "the measure representing the standard normal distribution:\n",
    "$$V(0)=e^{-rT}\\int_{-\\infty}^{\\infty} (S(0)e^{(r-\\frac 12\\sigma^2)T+\\sigma R}-X)^+\\frac {e^{-\\frac\n",
    "12\\frac{R^2}T}}{\\sqrt{2\\pi T}}\\,dR$$\n",
    "\n",
    "\n",
    "The integral can be evaluated analytically to get the usual BS\n",
    "formula for a European Call (see below).\\\\"
   ]
  },
  {
   "cell_type": "markdown",
   "metadata": {},
   "source": [
    "Alternatively, we may write the integral in terms of the\n",
    "distribution of $S_T=S(T)$ ($S_T$ is just a single symbol\n",
    "representing the RV $S(T)$) as\n",
    "$$V(0)=e^{-rT}\\int_{-\\infty}^{\\infty} (S_T-X)^+p(S_T)\\,dS_T$$\n",
    "where $p(S_T)$ is the density of $S(T)$. $S_T$ has density \n",
    "$$LN(S(0)e^{rT},\\ (E(S(T))^2 (e^{\\sigma^2 T}-1))$$\n",
    "where $LN$ is the lognormal distribution, here with mean\n",
    "$E(S(T))=S(0)e^{rT}$ and variance $(E(S(T))^2(e^{\\sigma^2 T}-1)$.\n",
    "The formula for $V(0)$ is simpler, but the density is more\n",
    "complicated than the version above using the density of $W(T)$."
   ]
  },
  {
   "cell_type": "markdown",
   "metadata": {
    "collapsed": true
   },
   "source": [
    "## Completeness of the BS Market"
   ]
  },
  {
   "cell_type": "markdown",
   "metadata": {},
   "source": [
    "A $complete\\ market$ is one in which any (suitably integrable) payoff has a self-financing portfolio which\n",
    "has the same final value. The proof that the BS market is complete requires a technical probabilistic theorem called the Martingale Representation Theorem. The proof will not be given here.\n",
    "\n",
    "**Theorem**\n",
    "\n",
    "The Black-Scholes market is complete.\n",
    "\n",
    "Hence we can use the previous theorem to price all calls."
   ]
  },
  {
   "cell_type": "markdown",
   "metadata": {},
   "source": [
    "## The General Form of the BS Formula\n",
    "\n",
    "We evaluate\n",
    "$$E((S-X)^+)$$\n",
    "given that $S$ is a lognormally distributed random variable with\n",
    "respect to the measure of the expectation.  If $S(t)$ satisfies the GBM equation then our \"$S$\" is $S(1)$.\n",
    "\n",
    "We suppose that $\\nu$ is\n",
    "the mean of $\\log S$ and that $\\sigma^2$ is its variance. Then if\n",
    "$Y=\\log S$, so that $Y\\sim N(\\nu,\\sigma)$, we have\n",
    "$$E(S)=E(e^Y)=e^{\\nu+\\frac12\\sigma^2}$$\n",
    "and hence\n",
    "$$\\log E(S)=\\nu+\\frac12\\sigma^2$$\n",
    "So\n",
    "$$\\nu=\\log(E(S))-\\sigma^2/2$$\n",
    "\n",
    "We know that\n",
    "$$R=\\frac{\\log S-\\nu}{\\sigma}$$\n",
    "has standard normal distribution and $\\log S=\\nu+\\sigma R$. Hence we\n",
    "can write the expectation as\n",
    "\\begin{align}\n",
    "E((S-X)^+)&=\\frac1{\\sqrt{2\\pi}}\\int_{S=X}^\\infty (e^{\\nu+\\sigma R}-X)e^{-R^2/2}dR\\\\\n",
    "&=\\frac1{\\sqrt{2\\pi}}\\int_{R=(\\log X-\\nu)/\\sigma}^\\infty e^{\\nu+\\sigma R}e^{-R^2/2}dR-\n",
    "X\\frac1{\\sqrt{2\\pi}}\\int_{R=(\\log X-\\nu)/\\sigma}^\\infty e^{-R^2/2}dR\n",
    "\\end{align}\n",
    "We go through some algebraic manipulation which can be skipped on first reading:  \n",
    "++++++++++++++++++++++++++++++\n",
    "$$e^{\\nu+\\sigma R}e^{-R^2/2}=e^{\\nu+\\sigma^2/2}e^{-(R-\\sigma)^2/2}$$\n",
    "so we can write our expectation as\n",
    "$$E((S-X)^+)=\\frac1{\\sqrt{2\\pi}}e^{\\nu+\\sigma^2/2}\\int_{(\\log X-\\nu)/\\sigma}^\\infty e^{-(R-\\sigma)^2/2}dR-\n",
    "X\\frac1{\\sqrt{2\\pi}}\\int_{(\\log X-\\nu)/\\sigma}^\\infty e^{-R^2/2}dR$$\n",
    "\n",
    "By using properties of the standard normal distribution, we obtain:\n",
    "$$\\int_\\alpha^\\infty e^{-(R-\\sigma)^2/2}dR=\\int_{\\alpha-\\sigma}^\\infty e^{-(R')^2/2}dR'\n",
    "=1-N(\\alpha-\\sigma)=N(-\\alpha+\\sigma)$$\n",
    "+++++++++++++++++++++++++++++\n",
    "\n",
    " The first integral on the right of the above expectation is then\n",
    "$$1-N((\\log X-\\nu)/\\sigma-\\sigma)=N((-\\log\n",
    "X+\\nu)/\\sigma+\\sigma)=N(\\frac{\\log\\frac{E(S)}X+\\sigma^2/2}{\\sigma})=N(d_1)\\qquad\n",
    "\\text{(say)}$$ and the second integral is\n",
    "$$N(d_1-\\sigma)=N(d_2)\\qquad \\text{(say)}$$\n",
    "Thus\n",
    "$$E((S-X)^+)=e^{\\nu+\\sigma^2/2}N(d_1)-XN(d_2) =E(S)N(d_1)-XN(d_2)$$\n",
    "\n",
    "## Statement of the Result\n",
    "**Theorem**\n",
    "                                                                            \n",
    "If $S$ is a  lognormally  distributed random variable with sdv\n",
    "$\\sigma$, then\n",
    "\n",
    "\\begin{align}\n",
    "E((S-X)^+) &=\\int_{S=X}^\\infty SdP-X\\int_{S=X}^\\infty dP\\\\\n",
    "&= E(S)N(d_1)-XN(d_2)\n",
    "\\end{align}\n",
    " where $P$ is the risk-neutral measure and\n",
    "$$d_1=\\frac{\\log\\frac{E(S)}X+\\sigma^2/2}{\\sigma},\\qquad d_2=d_1-\\sigma$$\n",
    "Here $E(S)N(d_1)$ is the risk-neutral expected value of $S$ given\n",
    "that $S$ is in the money (that is, $S\\ge X$) and $N(d_2)$ is the\n",
    "probability that $S$ is in the money.  \n",
    "\n"
   ]
  },
  {
   "cell_type": "markdown",
   "metadata": {},
   "source": [
    "If we we are pricing options over the interval $[t,T]$ then we have to use $S(T)$ for our $S$. This has variance $\\sigma^2 (T-t)$ so we must use this in place of $\\sigma^2$ in the result and replace $E(S)$ by $E(S(T))=S(0)e^{rT}$.  \n",
    "\n",
    "The call option price at time  $t$  is given by the discounted expectation\n",
    "\\begin{align}\n",
    "C(0,T)&=e^{-rT}E((S(T)−X)^+)\\\\\n",
    "&=e^{-rT}(E(S(T))N(d_1)-XN(d_2))\\\\\n",
    "C(0,T)&=S(0)N(d_1)-XN(d_2)e^{-rT}\\\\\n",
    "d_1&=\\left[ \\frac{\\log\\frac{S(0)}X+(r+\\frac{\\sigma^2}{2})T}{\\sigma\\sqrt{T}}  \\right]\\\\\n",
    "d_2&=d_1-\\sigma \\sqrt{T}\n",
    "\\end{align}\n",
    "\n",
    "This is the famous Black-Scholes pricing formula for the no-arbitrage price of a call (under the GBM model). Using put-call parity, we can immediately get a pricing formula for a put:\n",
    "$$ P(0,T)= Xe^{-rT} -S(0)+C(0,T)$$"
   ]
  },
  {
   "cell_type": "code",
   "execution_count": 3,
   "metadata": {
    "collapsed": true
   },
   "outputs": [],
   "source": [
    "def bsm_call_value(S0, K, T, r, sigma):\n",
    "    ''' Valuation of European call option in BSM model.\n",
    "    Analytical formula.\n",
    "    \n",
    "    Parameters\n",
    "    ==========\n",
    "    S0 : float                        initial stock/index level\n",
    "    K : float                         strike price\n",
    "    T : float                         maturity date (in year fractions)\n",
    "    r : float                         constant risk-free short rate\n",
    "    sigma : float                     volatility factor in diffusion term\n",
    "    \n",
    "    Returns\n",
    "    =======\n",
    "    value : float                     present value of the European call option\n",
    "    '''\n",
    "    from math import log, sqrt, exp\n",
    "    from scipy import stats\n",
    "\n",
    "    S0 = float(S0)\n",
    "    d1 = (log(S0 / K) + (r + 0.5 * sigma ** 2) * T) / (sigma * sqrt(T))\n",
    "    d2 = (log(S0 / K) + (r - 0.5 * sigma ** 2) * T) / (sigma * sqrt(T))\n",
    "    value = (S0 * stats.norm.cdf(d1, 0.0, 1.0)\n",
    "            - K * exp(-r * T) * stats.norm.cdf(d2, 0.0, 1.0))\n",
    "      \n",
    "        # stats.norm.cdf --> cumulative distribution function\n",
    "        #                    for normal distribution\n",
    "    return value\n"
   ]
  },
  {
   "cell_type": "code",
   "execution_count": 6,
   "metadata": {
    "collapsed": false
   },
   "outputs": [
    {
     "data": {
      "text/plain": [
       "13.639615096767713"
      ]
     },
     "execution_count": 6,
     "metadata": {},
     "output_type": "execute_result"
    }
   ],
   "source": [
    "bsm_call_value(100,105,2,.05,.2)"
   ]
  },
  {
   "cell_type": "markdown",
   "metadata": {},
   "source": []
  },
  {
   "cell_type": "markdown",
   "metadata": {},
   "source": [
    "## First Fundamental Theorem of Asset Pricing\n",
    "\n",
    "**Definition:** Probability measure $\\tilde {P}$ is said to be a $Risk\\ Neutral\\ Measure$ (RNM)\n",
    "for a market with probability measure $P$ if  \n",
    "(i) $\\tilde {P}\\sim P$ ($\\sim$ is read as equivalent, that is, the two measures have the same sets of measure 0).  \n",
    "(ii) $S/B$ is a martingale for all tradable assets $S$, where $B$ is\n",
    "the risk-free bank account.\n",
    "\n",
    "**Definition:** An $Arbitrage\\ Portfolio$ is a self financing portfolio $V$ satisfying  \n",
    "(i)  $V(0)=0$.  \n",
    "(ii) There exists a $T>0$ such that  \n",
    "*  (a) $P(V(T)\\ge 0)=1$ and \n",
    "*  (b) $P(V(T)>0)>0$.\n",
    "\n",
    "\n",
    "\n",
    "\n",
    "\n",
    "\n",
    "**Theorem**\n",
    "\n",
    "If a market has a RNM then there is no arbitrage portfolio.\n",
    "\n",
    "\n",
    "**Proof** Let $\\tilde P$ be a RNM. Then for every self financing portfolio $V$ we must have $V/B$ a martingale with\n",
    "respect to the RNM under $\\tilde P$. Let $V$ be a self financing portfolio with $V(0)=0$. Then\n",
    "$$E^{\\tilde P}\\left(\\frac{V(T)}{B(T)}\\right)=V(0)=0$$\n",
    "We now show that $V$ cannot be an arbitrage portfolio. Suppose that $V$ satisfies $P(V(T)\\ge 0)=1$. So\n",
    "$$ P(V(T)<0)=0$$\n",
    "By equivalence of the measures,\n",
    "$$\\tilde P(V(T)<0)=0$$\n",
    "If $\\tilde P(V(T)>0)>0$ then $\\tilde P(\\frac{V(T)}{B(T)}>0)>0$ which, together with the previous equation,\n",
    "implies $E^{\\tilde P}\\left(\\frac{V(T)}{B(T)}\\right)>0$ and this contradicts the fact above that this\n",
    "expectation is 0. So $V$ is not an arbitrage portfolio. Since $V$ is an arbitrary portfolio satisfying the necessary\n",
    "conditions there can exist no arbitrage portfolio.\n",
    "\n",
    "**Note** \n",
    "\n",
    "* There is a converse to this result: If there is no\n",
    "arbitrage in a market then there exists a RNM. However, to prove the\n",
    "converse we have to strengthen the definition of the no-arbitrage\n",
    "condition, for example to the NFLVR condition (no free lunch with\n",
    "vanishing risk) which we will not discuss. The proof is very\n",
    "technical.\n",
    "* The theorem proves that if $V/B$ wrt a RNM is any martingale then $V$ cannot be an arbitrage portfolio. Since $B>0$ a similar \n",
    "proof shows that if $V$ is a martingale wrt any measure equivalent to $P$ then it cannot be an arbitrage portfolio. This shows the essential role of martingales in mathematical finance."
   ]
  },
  {
   "cell_type": "markdown",
   "metadata": {},
   "source": [
    "## The Second Fundamental Theorem\n",
    "A market is complete if and only if it has a unique equivalent RNM. \n",
    "\n",
    "We will not discuss this here."
   ]
  }
 ],
 "metadata": {
  "kernelspec": {
   "display_name": "Python 3",
   "language": "python",
   "name": "python3"
  },
  "language_info": {
   "codemirror_mode": {
    "name": "ipython",
    "version": 3
   },
   "file_extension": ".py",
   "mimetype": "text/x-python",
   "name": "python",
   "nbconvert_exporter": "python",
   "pygments_lexer": "ipython3",
   "version": "3.5.3"
  }
 },
 "nbformat": 4,
 "nbformat_minor": 1
}
