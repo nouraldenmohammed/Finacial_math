{
 "cells": [
  {
   "cell_type": "markdown",
   "metadata": {},
   "source": [
    "## Exercises_FinMath_Week2_2019"
   ]
  },
  {
   "cell_type": "markdown",
   "metadata": {},
   "source": [
    "#### Exercise 1\n",
    "Find the Yahoo ticker name for Google.\n",
    "- Download Adj Close stock data from the beginning of 2004 to the present time from Yahoo.\n",
    "- Calculate the returns. Plot stock prices, and log returns.\n",
    "- Plot the histogram of Google returns and the normal distribution with the same mean and variance.\n",
    "- Calculate the skewness, mean, variance and kurtosis of the returns. Use the function normality_tests to test for normality.\n",
    "- Use scilab.stats.probplot (scs.probplot in the notebook) to test the normality of the series of returns by plotting the qqplot. \n",
    "- Calculate the rolling estimates for annual volatility of Google over a 5 year period and plot.\n",
    "- Plot the autocorrelation functions.\n",
    "- Comment when one of the items presents evidence of one of the stylised facts about financial time series"
   ]
  },
  {
   "cell_type": "markdown",
   "metadata": {},
   "source": [
    "#### Exercise 2\n",
    "* (a) Calculate $d(tW(t))$.  \n",
    "* (b) Integrate the expression to show that \n",
    "$$\\int_0^T W(t)dt=TW(T)-\\int_0^TtdW(t) =\\int_0^T(T-t)dW(t) $$\n",
    ".........................................................................................................[10]"
   ]
  },
  {
   "cell_type": "markdown",
   "metadata": {},
   "source": [
    "#### Exercise 3\n",
    "* (a) Show, by applying Ito's formula to $S(t)$, where\n",
    "$$S(t)=S_0e^{-\\frac12\\sigma^2t+\\sigma W(t)}$$\n",
    "that $S$ satisfies the SDE\n",
    "$$dS(t)=\\sigma SdW(t),\\ S(0)=S_0$$\n",
    "* (b) Choose suitable parameters for financial markets and simulate 3 solutions of the equation and plot them.\n"
   ]
  },
  {
   "cell_type": "markdown",
   "metadata": {},
   "source": [
    "#### Exercise 4\n",
    "Consider the equation\n",
    "$$dS(t)=(a+bt)dt+\\sigma dW$$\n",
    "(a) Integrate to find an analytic solution for $S(t)$ in terms of the functions $t,t^2, W(t)$.  \n",
    "(b) Plot sample solution paths  for a few values of $a,b,\\sigma$.  "
   ]
  },
  {
   "cell_type": "markdown",
   "metadata": {},
   "source": [
    "#### Exercise 5\n",
    "A stock satisfies the GBM equation with $S_0=100,T=2,r=.03, \\sigma=0.25,K=90$.    \n",
    "Use Monte Carlo methods to price a put option."
   ]
  },
  {
   "cell_type": "markdown",
   "metadata": {},
   "source": [
    "#### Exercise 6\n",
    "Investigate graphically the solutions of the discretised Ornstein-Uhlenbeck equation for various values of $a,b,\\sigma$. \n",
    "Comment on the behaviour."
   ]
  }
 ],
 "metadata": {
  "kernelspec": {
   "display_name": "Python 3",
   "language": "python",
   "name": "python3"
  },
  "language_info": {
   "codemirror_mode": {
    "name": "ipython",
    "version": 3
   },
   "file_extension": ".py",
   "mimetype": "text/x-python",
   "name": "python",
   "nbconvert_exporter": "python",
   "pygments_lexer": "ipython3",
   "version": "3.5.3"
  }
 },
 "nbformat": 4,
 "nbformat_minor": 1
}
